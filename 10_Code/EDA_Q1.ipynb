{
 "cells": [
  {
   "cell_type": "markdown",
   "metadata": {},
   "source": [
    "## EDA"
   ]
  },
  {
   "cell_type": "code",
   "execution_count": 17,
   "metadata": {},
   "outputs": [],
   "source": [
    "import pandas as pd\n",
    "import numpy as np\n",
    "import matplotlib.pyplot as plt\n",
    "import helper_db as db\n"
   ]
  },
  {
   "cell_type": "code",
   "execution_count": 18,
   "metadata": {},
   "outputs": [
    {
     "name": "stdout",
     "output_type": "stream",
     "text": [
      "<cursor object at 0x7fc8988cb130; closed: 0>\n"
     ]
    }
   ],
   "source": [
    "print(db.connect_to_db())"
   ]
  },
  {
   "cell_type": "markdown",
   "metadata": {},
   "source": [
    "### 1) Country dataset"
   ]
  },
  {
   "cell_type": "code",
   "execution_count": 19,
   "metadata": {},
   "outputs": [],
   "source": [
    "# df_country = df_country.sort_values(by=['dt'], ascending=True)\n",
    "# df_country = df_country.dropna()\n",
    "# df_country['year'] = df_country['dt'].str[:4]\n",
    "# df_country['temperature'] = df_country.groupby(['Country','year'])['AverageTemperature'].transform('mean')\n",
    "# country_list = df_country['Country'].values.tolist()"
   ]
  },
  {
   "cell_type": "code",
   "execution_count": 23,
   "metadata": {},
   "outputs": [
    {
     "name": "stdout",
     "output_type": "stream",
     "text": [
      "('1743-11-01', '4.3839999999999995', '2.294', 'Åland\\r')\n",
      "('1743-12-01', '', '', 'Åland\\r')\n"
     ]
    }
   ],
   "source": [
    "# country = np.random.choice(country_list)\n",
    "country = \"Afghanistan\"\n",
    "cursor = db.connect_to_db()\n",
    "cursor.execute(\"SELECT * FROM import.globallandtemperaturesbycountry LIMIT 2;\")\n",
    "for i in cursor.fetchall():\n",
    "    print(i)\n",
    "# df_country = pd.DataFrame(cursor.fetchall(), columns=[desc[0] for desc in cursor.description])\n",
    "# df_country.head()\n",
    "# df_country[df_country[\"Country\"] == country].drop_duplicates(\n",
    "#     subset=[\"year\"], keep=\"first\"\n",
    "# ).plot(\n",
    "#     x=\"year\", y=\"temperature\", kind=\"line\", title=\"Average Temperature of \" + country + ' (by year)'\n",
    "# )"
   ]
  },
  {
   "cell_type": "markdown",
   "metadata": {},
   "source": [
    "### 2) Major City dataset"
   ]
  },
  {
   "cell_type": "code",
   "execution_count": 21,
   "metadata": {},
   "outputs": [
    {
     "ename": "NameError",
     "evalue": "name 'df_major' is not defined",
     "output_type": "error",
     "traceback": [
      "\u001b[0;31m---------------------------------------------------------------------------\u001b[0m",
      "\u001b[0;31mNameError\u001b[0m                                 Traceback (most recent call last)",
      "\u001b[1;32m/Users/SongYoungOh/Documents/data-query-microservice-api/10_Code/EDA_Q1.ipynb Cell 8\u001b[0m in \u001b[0;36m<cell line: 1>\u001b[0;34m()\u001b[0m\n\u001b[0;32m----> <a href='vscode-notebook-cell:/Users/SongYoungOh/Documents/data-query-microservice-api/10_Code/EDA_Q1.ipynb#X10sZmlsZQ%3D%3D?line=0'>1</a>\u001b[0m df_major \u001b[39m=\u001b[39m df_major\u001b[39m.\u001b[39msort_values(by\u001b[39m=\u001b[39m[\u001b[39m'\u001b[39m\u001b[39mdt\u001b[39m\u001b[39m'\u001b[39m], ascending\u001b[39m=\u001b[39m\u001b[39mTrue\u001b[39;00m)\n\u001b[1;32m      <a href='vscode-notebook-cell:/Users/SongYoungOh/Documents/data-query-microservice-api/10_Code/EDA_Q1.ipynb#X10sZmlsZQ%3D%3D?line=1'>2</a>\u001b[0m df_major \u001b[39m=\u001b[39m df_major\u001b[39m.\u001b[39mdropna()\n\u001b[1;32m      <a href='vscode-notebook-cell:/Users/SongYoungOh/Documents/data-query-microservice-api/10_Code/EDA_Q1.ipynb#X10sZmlsZQ%3D%3D?line=2'>3</a>\u001b[0m df_major[\u001b[39m'\u001b[39m\u001b[39myear\u001b[39m\u001b[39m'\u001b[39m] \u001b[39m=\u001b[39m df_major[\u001b[39m'\u001b[39m\u001b[39mdt\u001b[39m\u001b[39m'\u001b[39m]\u001b[39m.\u001b[39mstr[:\u001b[39m4\u001b[39m]\n",
      "\u001b[0;31mNameError\u001b[0m: name 'df_major' is not defined"
     ]
    }
   ],
   "source": [
    "df_major = df_major.sort_values(by=['dt'], ascending=True)\n",
    "df_major = df_major.dropna()\n",
    "df_major['year'] = df_major['dt'].str[:4]\n",
    "df_major['temperature'] = df_major.groupby(['City','year'])['AverageTemperature'].transform('mean')\n",
    "major_city_list = df_major['City'].values.tolist()"
   ]
  },
  {
   "cell_type": "code",
   "execution_count": null,
   "metadata": {},
   "outputs": [],
   "source": [
    "major_city = np.random.choice(major_city_list)\n",
    "df_major[df_major[\"City\"] == major_city].drop_duplicates(\n",
    "    subset=[\"year\"], keep=\"first\"\n",
    ").plot(\n",
    "    x=\"year\", y=\"temperature\", kind=\"line\", title=\"Average Temperature of \" + major_city + ' (by year)'\n",
    ")"
   ]
  }
 ],
 "metadata": {
  "kernelspec": {
   "display_name": "Python 3.9.12 ('base')",
   "language": "python",
   "name": "python3"
  },
  "language_info": {
   "codemirror_mode": {
    "name": "ipython",
    "version": 3
   },
   "file_extension": ".py",
   "mimetype": "text/x-python",
   "name": "python",
   "nbconvert_exporter": "python",
   "pygments_lexer": "ipython3",
   "version": "3.9.12"
  },
  "orig_nbformat": 4,
  "vscode": {
   "interpreter": {
    "hash": "a92526385d613339fdfc3220bd081595a0042773833489b7647304f7dd79b12e"
   }
  }
 },
 "nbformat": 4,
 "nbformat_minor": 2
}
