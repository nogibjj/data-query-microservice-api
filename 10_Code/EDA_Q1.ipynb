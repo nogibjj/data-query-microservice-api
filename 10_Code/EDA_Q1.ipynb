{
 "cells": [
  {
   "cell_type": "markdown",
   "metadata": {},
   "source": [
    "## EDA"
   ]
  },
  {
   "cell_type": "code",
   "execution_count": null,
   "metadata": {},
   "outputs": [],
   "source": [
    "!pip install psycopg2-binary"
   ]
  },
  {
   "cell_type": "code",
   "execution_count": 1,
   "metadata": {},
   "outputs": [],
   "source": [
    "import pandas as pd\n",
    "import numpy as np\n",
    "# import matplotlib.pyplot as plt\n",
    "import helper_db as db\n"
   ]
  },
  {
   "cell_type": "code",
   "execution_count": 2,
   "metadata": {},
   "outputs": [
    {
     "name": "stdout",
     "output_type": "stream",
     "text": [
      "<cursor object at 0x7fce486b76d0; closed: 0>\n"
     ]
    }
   ],
   "source": [
    "print(db.connect_to_db())"
   ]
  },
  {
   "cell_type": "markdown",
   "metadata": {},
   "source": [
    "### Question 1: For a given city/country, what is the trend of their average temperature?"
   ]
  },
  {
   "cell_type": "code",
   "execution_count": 3,
   "metadata": {},
   "outputs": [],
   "source": [
    "country = \"Afghanistan\"\n",
    "cursor = db.connect_to_db()"
   ]
  },
  {
   "cell_type": "code",
   "execution_count": 4,
   "metadata": {},
   "outputs": [],
   "source": [
    "cursor.execute(\"SELECT * FROM import.globaltemperaturesbycountry where country='Afghanistan';\")"
   ]
  },
  {
   "cell_type": "code",
   "execution_count": 8,
   "metadata": {},
   "outputs": [
    {
     "name": "stdout",
     "output_type": "stream",
     "text": [
      "[]\n"
     ]
    }
   ],
   "source": [
    "# for i in cursor.fetchall():\n",
    "    # print(i)\n",
    "df_country = pd.DataFrame(cursor.fetchall(), columns=[desc[0] for desc in cursor.description])\n",
    "df_country = df_country.sort_values(by=['dt'], ascending=True)\n",
    "df_country = df_country.dropna()\n",
    "df_country['year'] = df_country['dt'].str[:4].astype(int)\n",
    "df_country['averagetemperature'].values\n",
    "df_country['averagetemperature'] = df_country['averagetemperature'].astype(float)\n",
    "df_country['temperature'] = df_country.groupby('year')['averagetemperature'].transform('mean')\n",
    "df_country.drop_duplicates(\n",
    "    subset=[\"year\"], keep=\"first\"\n",
    ").plot(\n",
    "    x=\"year\", y=\"temperature\", kind=\"line\", title=\"Average Temperature of \" + country + ' (by year)'\n",
    ")"
   ]
  },
  {
   "cell_type": "markdown",
   "metadata": {},
   "source": [
    "### Question 2: For a given year and a given city/country, what is the max/min temperature?"
   ]
  },
  {
   "cell_type": "markdown",
   "metadata": {},
   "source": [
    "### Question 3: For a given year, which city/country has the highest/lowest temperature on average?"
   ]
  },
  {
   "cell_type": "markdown",
   "metadata": {},
   "source": [
    "### Question 4: For a given city/country, what is the initial and the most recent temperature?"
   ]
  }
 ],
 "metadata": {
  "kernelspec": {
   "display_name": "Python 3.9.12 ('base')",
   "language": "python",
   "name": "python3"
  },
  "language_info": {
   "codemirror_mode": {
    "name": "ipython",
    "version": 3
   },
   "file_extension": ".py",
   "mimetype": "text/x-python",
   "name": "python",
   "nbconvert_exporter": "python",
   "pygments_lexer": "ipython3",
   "version": "3.9.12"
  },
  "orig_nbformat": 4,
  "vscode": {
   "interpreter": {
    "hash": "a92526385d613339fdfc3220bd081595a0042773833489b7647304f7dd79b12e"
   }
  }
 },
 "nbformat": 4,
 "nbformat_minor": 2
}
