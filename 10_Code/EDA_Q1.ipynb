{
 "cells": [
  {
   "cell_type": "markdown",
   "metadata": {},
   "source": [
    "## EDA"
   ]
  },
  {
   "cell_type": "code",
   "execution_count": null,
   "metadata": {},
   "outputs": [],
   "source": [
    "!pip install psycopg2-binary"
   ]
  },
  {
   "cell_type": "code",
   "execution_count": 101,
   "metadata": {},
   "outputs": [],
   "source": [
    "import pandas as pd\n",
    "import numpy as np\n",
    "# import matplotlib.pyplot as plt\n",
    "import helper_db as db\n"
   ]
  },
  {
   "cell_type": "code",
   "execution_count": 102,
   "metadata": {},
   "outputs": [
    {
     "name": "stdout",
     "output_type": "stream",
     "text": [
      "<cursor object at 0x7f7df25cb8b0; closed: 0>\n"
     ]
    }
   ],
   "source": [
    "print(db.connect_to_db())"
   ]
  },
  {
   "cell_type": "markdown",
   "metadata": {},
   "source": [
    "### Question 1: For a given city/country, what is the trend of their average temperature?"
   ]
  },
  {
   "cell_type": "code",
   "execution_count": 103,
   "metadata": {},
   "outputs": [],
   "source": [
    "cursor = db.connect_to_db()"
   ]
  },
  {
   "cell_type": "code",
   "execution_count": 104,
   "metadata": {},
   "outputs": [],
   "source": [
    "cursor.execute(\"SELECT * FROM import.globaltemperaturesbycountry;\")"
   ]
  },
  {
   "cell_type": "code",
   "execution_count": 105,
   "metadata": {},
   "outputs": [],
   "source": [
    "# for i in cursor.fetchall():\n",
    "#     print(i)\n",
    "\n",
    "df_country_0 = pd.DataFrame(cursor.fetchall(), columns=[desc[0] for desc in cursor.description])"
   ]
  },
  {
   "cell_type": "code",
   "execution_count": 106,
   "metadata": {},
   "outputs": [
    {
     "data": {
      "text/html": [
       "<div>\n",
       "<style scoped>\n",
       "    .dataframe tbody tr th:only-of-type {\n",
       "        vertical-align: middle;\n",
       "    }\n",
       "\n",
       "    .dataframe tbody tr th {\n",
       "        vertical-align: top;\n",
       "    }\n",
       "\n",
       "    .dataframe thead th {\n",
       "        text-align: right;\n",
       "    }\n",
       "</style>\n",
       "<table border=\"1\" class=\"dataframe\">\n",
       "  <thead>\n",
       "    <tr style=\"text-align: right;\">\n",
       "      <th></th>\n",
       "      <th>dt</th>\n",
       "      <th>averagetemperature</th>\n",
       "      <th>averagetemperatureuncertainty</th>\n",
       "      <th>country</th>\n",
       "    </tr>\n",
       "  </thead>\n",
       "  <tbody>\n",
       "    <tr>\n",
       "      <th>568848</th>\n",
       "      <td>1987-12-01</td>\n",
       "      <td>26.357</td>\n",
       "      <td>0.276</td>\n",
       "      <td>Virgin Islands</td>\n",
       "    </tr>\n",
       "    <tr>\n",
       "      <th>26436</th>\n",
       "      <td>1936-03-01</td>\n",
       "      <td>18.723</td>\n",
       "      <td>0.268</td>\n",
       "      <td>Argentina</td>\n",
       "    </tr>\n",
       "    <tr>\n",
       "      <th>197206</th>\n",
       "      <td>1894-11-01</td>\n",
       "      <td>16.023</td>\n",
       "      <td>1.394</td>\n",
       "      <td>Gaza Strip</td>\n",
       "    </tr>\n",
       "    <tr>\n",
       "      <th>345545</th>\n",
       "      <td>1887-06-01</td>\n",
       "      <td>16.794</td>\n",
       "      <td>0.265</td>\n",
       "      <td>Monaco</td>\n",
       "    </tr>\n",
       "    <tr>\n",
       "      <th>540929</th>\n",
       "      <td>1995-02-01</td>\n",
       "      <td>25.211</td>\n",
       "      <td>0.345</td>\n",
       "      <td>Turks And Caicas Islands</td>\n",
       "    </tr>\n",
       "    <tr>\n",
       "      <th>130052</th>\n",
       "      <td>1929-01-01</td>\n",
       "      <td>23.732</td>\n",
       "      <td>0.411</td>\n",
       "      <td>Cuba</td>\n",
       "    </tr>\n",
       "    <tr>\n",
       "      <th>156189</th>\n",
       "      <td>1907-01-01</td>\n",
       "      <td>22.953000000000007</td>\n",
       "      <td>1.27</td>\n",
       "      <td>El Salvador</td>\n",
       "    </tr>\n",
       "    <tr>\n",
       "      <th>286938</th>\n",
       "      <td>2004-08-01</td>\n",
       "      <td>16.125</td>\n",
       "      <td>0.239</td>\n",
       "      <td>Kyrgyzstan</td>\n",
       "    </tr>\n",
       "    <tr>\n",
       "      <th>486835</th>\n",
       "      <td>1884-06-01</td>\n",
       "      <td></td>\n",
       "      <td></td>\n",
       "      <td>South Georgia And The South Sandwich Isla</td>\n",
       "    </tr>\n",
       "    <tr>\n",
       "      <th>559199</th>\n",
       "      <td>1946-11-01</td>\n",
       "      <td>20.642</td>\n",
       "      <td>0.404</td>\n",
       "      <td>Uruguay</td>\n",
       "    </tr>\n",
       "  </tbody>\n",
       "</table>\n",
       "</div>"
      ],
      "text/plain": [
       "                dt  averagetemperature averagetemperatureuncertainty  \\\n",
       "568848  1987-12-01              26.357                         0.276   \n",
       "26436   1936-03-01              18.723                         0.268   \n",
       "197206  1894-11-01              16.023                         1.394   \n",
       "345545  1887-06-01              16.794                         0.265   \n",
       "540929  1995-02-01              25.211                         0.345   \n",
       "130052  1929-01-01              23.732                         0.411   \n",
       "156189  1907-01-01  22.953000000000007                          1.27   \n",
       "286938  2004-08-01              16.125                         0.239   \n",
       "486835  1884-06-01                                                     \n",
       "559199  1946-11-01              20.642                         0.404   \n",
       "\n",
       "                                          country  \n",
       "568848                             Virgin Islands  \n",
       "26436                                   Argentina  \n",
       "197206                                 Gaza Strip  \n",
       "345545                                     Monaco  \n",
       "540929                   Turks And Caicas Islands  \n",
       "130052                                       Cuba  \n",
       "156189                                El Salvador  \n",
       "286938                                 Kyrgyzstan  \n",
       "486835  South Georgia And The South Sandwich Isla  \n",
       "559199                                    Uruguay  "
      ]
     },
     "execution_count": 106,
     "metadata": {},
     "output_type": "execute_result"
    }
   ],
   "source": [
    "df_country = df_country_0.copy()\n",
    "df_country['country'] = df_country['country'].str.strip()\n",
    "df_country.sample(10)"
   ]
  },
  {
   "cell_type": "code",
   "execution_count": 107,
   "metadata": {},
   "outputs": [
    {
     "data": {
      "text/plain": [
       "<AxesSubplot:title={'center':'Average Temperature of Afghanistan (by year)'}, xlabel='year'>"
      ]
     },
     "execution_count": 107,
     "metadata": {},
     "output_type": "execute_result"
    },
    {
     "data": {
      "image/png": "[encoded data removed]",
      "text/plain": [
       "<Figure size 432x288 with 1 Axes>"
      ]
     },
     "metadata": {
      "needs_background": "light"
     },
     "output_type": "display_data"
    }
   ],
   "source": [
    "country = 'Afghanistan'\n",
    "df_country = df_country[df_country['country'] == country].sort_values(by=['dt'], ascending=True)\n",
    "df_country = df_country.replace(to_replace='', value = np.nan,regex=True)\n",
    "df_country = df_country.dropna()\n",
    "df_country['year'] = df_country['dt'].str[:4].astype(int)\n",
    "df_country['averagetemperature'] = df_country['averagetemperature'].astype(float)\n",
    "df_country['temperature'] = df_country.groupby('year')['averagetemperature'].transform('mean')\n",
    "df_country.drop_duplicates(\n",
    "    subset=[\"year\"], keep=\"first\"\n",
    ").plot(\n",
    "    x=\"year\", y=\"temperature\", kind=\"line\", title=\"Average Temperature of \" + country + ' (by year)'\n",
    ")"
   ]
  },
  {
   "cell_type": "code",
   "execution_count": 108,
   "metadata": {},
   "outputs": [
    {
     "data": {
      "text/plain": [
       "<AxesSubplot:title={'center':'Average Temperature of Europe (by year)'}, xlabel='year'>"
      ]
     },
     "execution_count": 108,
     "metadata": {},
     "output_type": "execute_result"
    },
    {
     "data": {
      "image/png": "[encoded data removed]",
      "text/plain": [
       "<Figure size 432x288 with 1 Axes>"
      ]
     },
     "metadata": {
      "needs_background": "light"
     },
     "output_type": "display_data"
    }
   ],
   "source": [
    "country = 'Europe'\n",
    "df_country = df_country[df_country['country'] == country].sort_values(by=['dt'], ascending=True)\n",
    "df_country = df_country.replace(to_replace='', value = np.nan,regex=True)\n",
    "df_country = df_country.dropna()\n",
    "df_country['year'] = df_country['dt'].str[:4].astype(int)\n",
    "df_country['averagetemperature'] = df_country['averagetemperature'].astype(float)\n",
    "df_country['temperature'] = df_country.groupby('year')['averagetemperature'].transform('mean')\n",
    "df_country.drop_duplicates(\n",
    "    subset=[\"year\"], keep=\"first\"\n",
    ").plot(\n",
    "    x=\"year\", y=\"temperature\", kind=\"line\", title=\"Average Temperature of \" + country + ' (by year)'\n",
    ")"
   ]
  },
  {
   "cell_type": "code",
   "execution_count": 109,
   "metadata": {},
   "outputs": [
    {
     "data": {
      "text/plain": [
       "<AxesSubplot:title={'center':'Average Temperature of India (by year)'}, xlabel='year'>"
      ]
     },
     "execution_count": 109,
     "metadata": {},
     "output_type": "execute_result"
    },
    {
     "data": {
      "image/png": "[encoded data removed]",
      "text/plain": [
       "<Figure size 432x288 with 1 Axes>"
      ]
     },
     "metadata": {
      "needs_background": "light"
     },
     "output_type": "display_data"
    }
   ],
   "source": [
    "country = 'India'\n",
    "df_country = df_country[df_country['country'] == country].sort_values(by=['dt'], ascending=True)\n",
    "df_country = df_country.replace(to_replace='', value = np.nan,regex=True)\n",
    "df_country = df_country.dropna()\n",
    "df_country['year'] = df_country['dt'].str[:4].astype(int)\n",
    "df_country['averagetemperature'] = df_country['averagetemperature'].astype(float)\n",
    "df_country['temperature'] = df_country.groupby('year')['averagetemperature'].transform('mean')\n",
    "df_country.drop_duplicates(\n",
    "    subset=[\"year\"], keep=\"first\"\n",
    ").plot(\n",
    "    x=\"year\", y=\"temperature\", kind=\"line\", title=\"Average Temperature of \" + country + ' (by year)'\n",
    ")"
   ]
  },
  {
   "cell_type": "markdown",
   "metadata": {},
   "source": [
    "### Question 2: For a given year and a given city/country, what is the max/min temperature?"
   ]
  },
  {
   "cell_type": "markdown",
   "metadata": {},
   "source": [
    "### Question 3: For a given year, which city/country has the highest/lowest temperature on average?"
   ]
  },
  {
   "cell_type": "markdown",
   "metadata": {},
   "source": [
    "### Question 4: For a given city/country, what is the initial and the most recent temperature?"
   ]
  }
 ],
 "metadata": {
  "kernelspec": {
   "display_name": "Python 3.9.12 ('base')",
   "language": "python",
   "name": "python3"
  },
  "language_info": {
   "codemirror_mode": {
    "name": "ipython",
    "version": 3
   },
   "file_extension": ".py",
   "mimetype": "text/x-python",
   "name": "python",
   "nbconvert_exporter": "python",
   "pygments_lexer": "ipython3",
   "version": "3.9.12"
  },
  "orig_nbformat": 4,
  "vscode": {
   "interpreter": {
    "hash": "a92526385d613339fdfc3220bd081595a0042773833489b7647304f7dd79b12e"
   }
  }
 },
 "nbformat": 4,
 "nbformat_minor": 2
}
