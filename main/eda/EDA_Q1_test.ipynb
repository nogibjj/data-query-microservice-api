{
 "cells": [
  {
   "cell_type": "markdown",
   "metadata": {},
   "source": [
    "## EDA"
   ]
  },
  {
   "cell_type": "code",
   "execution_count": null,
   "metadata": {},
   "outputs": [],
   "source": [
    "!pip install psycopg2-binary"
   ]
  },
  {
   "cell_type": "code",
   "execution_count": 1,
   "metadata": {},
   "outputs": [],
   "source": [
    "import pandas as pd\n",
    "import numpy as np\n",
    "import altair as alt\n",
    "import matplotlib.pyplot as plt\n",
    "import sys\n",
    "PROJECT_ROOT = os.path.abspath(os.path.join(os.path.abspath(''), os.pardir))\n",
    "sys.path.append(PROJECT_ROOT)\n",
    "import helpers as db"
   ]
  },
  {
   "cell_type": "code",
   "execution_count": 2,
   "metadata": {},
   "outputs": [
    {
     "name": "stdout",
     "output_type": "stream",
     "text": [
      "<cursor object at 0x7f9909f25a90; closed: 0>\n"
     ]
    }
   ],
   "source": [
    "print(db.connect_to_db())"
   ]
  },
  {
   "cell_type": "markdown",
   "metadata": {},
   "source": [
    "### Question 1: For a given country, what is the trend of their average temperature?"
   ]
  },
  {
   "cell_type": "code",
   "execution_count": null,
   "metadata": {},
   "outputs": [],
   "source": [
    "cursor = db.connect_to_db()"
   ]
  },
  {
   "cell_type": "code",
   "execution_count": null,
   "metadata": {},
   "outputs": [],
   "source": [
    "cursor.execute(\"SELECT * FROM import.globaltemperaturesbycountry where country = 'Afghanistan';\")"
   ]
  },
  {
   "cell_type": "code",
   "execution_count": null,
   "metadata": {},
   "outputs": [],
   "source": [
    "afghanistan_data = cursor.fetchall()"
   ]
  },
  {
   "cell_type": "code",
   "execution_count": null,
   "metadata": {},
   "outputs": [],
   "source": [
    "df_country = pd.DataFrame(afghanistan_data, columns=[desc[0] for desc in cursor.description])"
   ]
  },
  {
   "cell_type": "code",
   "execution_count": null,
   "metadata": {},
   "outputs": [],
   "source": [
    "country_q1 = \"Afghanistan\"\n",
    "df_country = df_country.sort_values(by=[\"dt\"], ascending=True)\n",
    "df_country = df_country.replace(to_replace=\"\", value=np.nan, regex=True)\n",
    "df_country = df_country.dropna()\n",
    "df_country[\"year\"] = df_country[\"dt\"].str[:4].astype(int)\n",
    "df_country[\"averagetemperature\"] = df_country[\"averagetemperature\"].astype(float)\n",
    "df_country[\"temperature\"] = df_country.groupby(\"year\")[\"averagetemperature\"].transform(\n",
    "    \"mean\"\n",
    ")\n",
    "\n",
    "alt.Chart(df_country).mark_line().encode(\n",
    "    x=alt.X(\"year\", title=\"Year\", axis=alt.Axis(format=\"d\")),\n",
    "    y=alt.Y(\"temperature\", title=\"Average Temperature (Celsius)\", scale=alt.Scale(zero=False)),\n",
    ").properties(title=\"Average Temperature in \" + country_q1)\n",
    "\n"
   ]
  },
  {
   "cell_type": "code",
   "execution_count": null,
   "metadata": {},
   "outputs": [],
   "source": [
    "cursor.execute(\"SELECT * FROM import.globaltemperaturesbycountry where country = 'Europe';\")\n",
    "europe_data = cursor.fetchall()\n",
    "df_country_1 = pd.DataFrame(europe_data, columns=[desc[0] for desc in cursor.description])"
   ]
  },
  {
   "cell_type": "code",
   "execution_count": null,
   "metadata": {},
   "outputs": [],
   "source": [
    "country = 'Europe'\n",
    "df_country_1 = df_country_1.sort_values(by=['dt'], ascending=True)\n",
    "df_country_1 = df_country_1.replace(to_replace='', value = np.nan,regex=True)\n",
    "df_country_1 = df_country_1.dropna()\n",
    "df_country_1['year'] = df_country_1['dt'].str[:4].astype(int)\n",
    "df_country_1['averagetemperature'] = df_country_1['averagetemperature'].astype(float)\n",
    "df_country_1['temperature'] = df_country_1.groupby('year')['averagetemperature'].transform('mean')\n",
    "\n",
    "alt.Chart(df_country_1).mark_line().encode(\n",
    "    x=alt.X(\"year\", title=\"Year\", axis=alt.Axis(format=\"d\")),\n",
    "    y=alt.Y(\"temperature\", title=\"Average Temperature (Celsius)\", scale=alt.Scale(zero=False)),\n",
    ").properties(title=\"Average Temperature in \" + country)"
   ]
  },
  {
   "cell_type": "code",
   "execution_count": null,
   "metadata": {},
   "outputs": [],
   "source": [
    "cursor.execute(\"SELECT * FROM import.globaltemperaturesbycountry where country = 'India';\")\n",
    "india_data = cursor.fetchall()\n",
    "df_country_2 = pd.DataFrame(india_data, columns=[desc[0] for desc in cursor.description])"
   ]
  },
  {
   "cell_type": "code",
   "execution_count": null,
   "metadata": {},
   "outputs": [],
   "source": [
    "country = 'India'\n",
    "df_country_2 = df_country_2.sort_values(by=['dt'], ascending=True)\n",
    "df_country_2 = df_country_2.replace(to_replace='', value = np.nan,regex=True)\n",
    "df_country_2 = df_country_2.dropna()\n",
    "df_country_2['year'] = df_country_2['dt'].str[:4].astype(int)\n",
    "df_country_2['averagetemperature'] = df_country_2['averagetemperature'].astype(float)\n",
    "df_country_2['temperature'] = df_country_2.groupby('year')['averagetemperature'].transform('mean')\n",
    "\n",
    "alt.Chart(df_country_2).mark_line().encode(\n",
    "    x=alt.X(\"year\", title=\"Year\", axis=alt.Axis(format=\"d\")),\n",
    "    y=alt.Y(\"temperature\", title=\"Average Temperature (Celsius)\", scale=alt.Scale(zero=False)),\n",
    ").properties(title=\"Average Temperature in \" + country)"
   ]
  },
  {
   "cell_type": "markdown",
   "metadata": {},
   "source": [
    "### Question 2: For a given year and a given country, what is the max/min temperature?"
   ]
  },
  {
   "cell_type": "code",
   "execution_count": null,
   "metadata": {},
   "outputs": [],
   "source": [
    "cursor.execute(\"SELECT * FROM import.globaltemperaturesbycountry where country = 'Norway';\")\n",
    "norway_data = cursor.fetchall()\n",
    "df_country_3 = pd.DataFrame(norway_data, columns=[desc[0] for desc in cursor.description])"
   ]
  },
  {
   "cell_type": "code",
   "execution_count": null,
   "metadata": {},
   "outputs": [],
   "source": [
    "year_q2 = 2000\n",
    "country_q2 = 'Norway'\n",
    "df_country_3 = df_country_3.sort_values(by=['dt'], ascending=True)\n",
    "df_country_3 = df_country_3.replace(to_replace='', value = np.nan,regex=True)\n",
    "df_country_3 = df_country_3.dropna()\n",
    "df_country_3['year'] = df_country_3['dt'].str[:4].astype(int)\n",
    "df_country_3['averagetemperature'] = df_country_3['averagetemperature'].astype(float)\n",
    "max = df_country_3[df_country_3[\"year\"] == year_q2]['averagetemperature'].max()\n",
    "min = df_country_3[df_country_3[\"year\"] == year_q2]['averagetemperature'].min()\n",
    "mean = df_country_3[df_country_3[\"year\"] == year_q2]['averagetemperature'].mean()\n",
    "plt.bar([\"Max\", \"Min\", \"Mean\"], [max, min, mean])\n",
    "plt.title(\"Temperature of \" + country_q2 + ' in ' + str(year_q2))\n",
    "for index, value in enumerate([max, min, mean]):\n",
    "    plt.text(index, value, np.round(value, 2))\n",
    "plt.show()"
   ]
  },
  {
   "cell_type": "markdown",
   "metadata": {},
   "source": [
    "### Question 3: For a given year, which city has the highest/lowest temperature on average in the US?"
   ]
  },
  {
   "cell_type": "code",
   "execution_count": null,
   "metadata": {},
   "outputs": [],
   "source": [
    "cursor.execute(\"SELECT * FROM import.globaltemperaturesbymajorcity where country = 'United States';\")\n",
    "us_data = cursor.fetchall()\n",
    "df_country_4 = pd.DataFrame(us_data, columns=[desc[0] for desc in cursor.description])\n"
   ]
  },
  {
   "cell_type": "code",
   "execution_count": null,
   "metadata": {},
   "outputs": [],
   "source": [
    "year_q3 = 2010\n",
    "country_q3 = 'United States'\n",
    "df_country_4 = df_country_4.sort_values(by=['dt'], ascending=True)\n",
    "df_country_4 = df_country_4.replace(to_replace='', value = np.nan,regex=True)\n",
    "df_country_4 = df_country_4.dropna()\n",
    "df_country_4['year'] = df_country_4['dt'].str[:4].astype(int)\n",
    "df_country_4['averagetemperature'] = df_country_4['averagetemperature'].astype(float)\n",
    "df_country_4['temperature'] = df_country_4.groupby(['year', 'city'])['averagetemperature'].transform('mean')\n",
    "highest = df_country_4[df_country_4[\"year\"] == year_q3].sort_values(by=['temperature'], ascending=False).head(1)\n",
    "lowest = df_country_4[df_country_4[\"year\"] == year_q3].sort_values(by=['temperature'], ascending=True).head(1)\n",
    "highest_city = highest['city'].values[0]\n",
    "lowest_city = lowest['city'].values[0]\n",
    "print(str(highest_city) + ' had the highest temperature in ' + str(year_q3) + ' on average.')\n",
    "print(str(lowest_city) + ' had the lowest temperature in ' + str(year_q3) + ' on average.')"
   ]
  },
  {
   "cell_type": "markdown",
   "metadata": {},
   "source": [
    "### Question 4: For a given country, what is the initial and the most recent temperature?"
   ]
  },
  {
   "cell_type": "code",
   "execution_count": 3,
   "metadata": {},
   "outputs": [],
   "source": [
    "cursor = db.connect_to_db()\n",
    "cursor.execute(\"SELECT * FROM import.globaltemperaturesbycountry where country = 'Thailand';\")\n",
    "thailand_data = cursor.fetchall()\n",
    "df_country_5 = pd.DataFrame(thailand_data, columns=[desc[0] for desc in cursor.description])\n",
    "df_country_5 = df_country_5.sort_values(by=['dt'], ascending=True)\n",
    "df_country_5 = df_country_5.replace(to_replace='', value = np.nan,regex=True)\n",
    "df_country_5 = df_country_5.dropna()\n",
    "df_country_5['year'] = df_country_5['dt'].str[:4].astype(int)\n",
    "df_country_5['month'] = df_country_5['dt'].str[5:7].astype(int)\n",
    "df_country_5['averagetemperature'] = df_country_5['averagetemperature'].astype(float)"
   ]
  },
  {
   "cell_type": "code",
   "execution_count": 28,
   "metadata": {},
   "outputs": [
    {
     "name": "stdout",
     "output_type": "stream",
     "text": [
      "RUNNING THE L-BFGS-B CODE\n",
      "\n",
      "           * * *\n",
      "\n",
      "Machine precision = 2.220D-16\n",
      " N =            5     M =           10\n",
      "\n",
      "At X0         0 variables are exactly at the bounds\n",
      "\n",
      "At iterate    0    f=  5.27183D-01    |proj g|=  5.11552D-01\n",
      "\n",
      "At iterate    5    f=  4.06078D-01    |proj g|=  4.97345D-02\n",
      "\n",
      "At iterate   10    f=  3.98032D-01    |proj g|=  1.39846D-02\n"
     ]
    },
    {
     "name": "stderr",
     "output_type": "stream",
     "text": [
      " This problem is unconstrained.\n"
     ]
    },
    {
     "name": "stdout",
     "output_type": "stream",
     "text": [
      "\n",
      "At iterate   15    f=  3.93487D-01    |proj g|=  9.08082D-03\n",
      "\n",
      "At iterate   20    f=  3.92823D-01    |proj g|=  2.51551D-03\n",
      "\n",
      "At iterate   25    f=  3.92776D-01    |proj g|=  1.00872D-03\n",
      "\n",
      "           * * *\n",
      "\n",
      "Tit   = total number of iterations\n",
      "Tnf   = total number of function evaluations\n",
      "Tnint = total number of segments explored during Cauchy searches\n",
      "Skip  = number of BFGS updates skipped\n",
      "Nact  = number of active bounds at final generalized Cauchy point\n",
      "Projg = norm of the final projected gradient\n",
      "F     = final function value\n",
      "\n",
      "           * * *\n",
      "\n",
      "   N    Tit     Tnf  Tnint  Skip  Nact     Projg        F\n",
      "    5     28     52      1     0     0   4.025D-03   3.928D-01\n",
      "  F =  0.39277342657978431     \n",
      "\n",
      "CONVERGENCE: REL_REDUCTION_OF_F_<=_FACTR*EPSMCH             \n"
     ]
    },
    {
     "name": "stderr",
     "output_type": "stream",
     "text": [
      "\n",
      " Warning:  more than 10 function and gradient\n",
      "   evaluations in the last line search.  Termination\n",
      "   may possibly be caused by a bad search direction.\n"
     ]
    },
    {
     "data": {
      "text/plain": [
       "<matplotlib.collections.PolyCollection at 0x7f991de2d820>"
      ]
     },
     "execution_count": 28,
     "metadata": {},
     "output_type": "execute_result"
    },
    {
     "data": {
      "image/png": "[encoded data removed]",
      "text/plain": [
       "<Figure size 864x576 with 1 Axes>"
      ]
     },
     "metadata": {
      "needs_background": "light"
     },
     "output_type": "display_data"
    }
   ],
   "source": [
    "import statsmodels.api as sm\n",
    "\n",
    "timeseriesdata = df_country_5.groupby('year')['averagetemperature'].mean()\n",
    "timeseriesdata.index = pd.period_range('1824', '2013', freq='Y')\n",
    "endog = timeseriesdata\n",
    "mod = sm.tsa.statespace.SARIMAX(endog, order=(1, 1, 1), seasonal_order=(1, 1, 1, 12))\n",
    "res = mod.fit()\n",
    "fig, ax = plt.subplots(figsize=(12, 8))\n",
    "plt.title('Thailand Temperature Forecast until 2050')\n",
    "endog.loc['1824':].plot(ax=ax)\n",
    "fcast = res.get_forecast('2050').summary_frame()\n",
    "fcast['mean'].plot(ax=ax, style='k--', label='Forecast')\n",
    "ax.fill_between(fcast.index, fcast['mean_ci_lower'], fcast['mean_ci_upper'], color='k', alpha=0.1)"
   ]
  },
  {
   "cell_type": "code",
   "execution_count": null,
   "metadata": {},
   "outputs": [],
   "source": [
    "country_q4 = 'Thailand'\n",
    "df_country_5 = df_country_5.sort_values(by=['dt'], ascending=True)\n",
    "df_country_5 = df_country_5.replace(to_replace='', value = np.nan,regex=True)\n",
    "df_country_5 = df_country_5.dropna()\n",
    "df_country_5['year'] = df_country_5['dt'].str[:4].astype(int)\n",
    "df_country_5['month'] = df_country_5['dt'].str[5:7].astype(int)\n",
    "df_country_5['averagetemperature'] = df_country_5['averagetemperature'].astype(float)\n",
    "initial = df_country_5.loc[0, 'averagetemperature']\n",
    "initial_month = str(df_country_5.loc[0, 'year']) + '-' + str(df_country_5.loc[0, 'month'])\n",
    "recent = df_country_5.iloc[-1]['averagetemperature']\n",
    "recent_month = str(df_country_5.iloc[-1]['year']) + '-' + str(df_country_5.iloc[-1]['month'])\n",
    "plt.bar([initial_month, recent_month], [initial, recent])\n",
    "plt.title(\"Temperature of \" + country_q4 + ' from ' + str(initial_month[:4]) + ' to ' + str(recent_month[:4]))\n",
    "for index, value in enumerate([initial, recent]):\n",
    "    plt.text(index, value, np.round(value, 2))\n",
    "plt.show()"
   ]
  }
 ],
 "metadata": {
  "kernelspec": {
   "display_name": "Python 3.9.12 ('base')",
   "language": "python",
   "name": "python3"
  },
  "language_info": {
   "codemirror_mode": {
    "name": "ipython",
    "version": 3
   },
   "file_extension": ".py",
   "mimetype": "text/x-python",
   "name": "python",
   "nbconvert_exporter": "python",
   "pygments_lexer": "ipython3",
   "version": "3.9.12"
  },
  "orig_nbformat": 4,
  "vscode": {
   "interpreter": {
    "hash": "a92526385d613339fdfc3220bd081595a0042773833489b7647304f7dd79b12e"
   }
  }
 },
 "nbformat": 4,
 "nbformat_minor": 2
}
